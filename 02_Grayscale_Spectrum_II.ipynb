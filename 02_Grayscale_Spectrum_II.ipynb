{
  "nbformat": 4,
  "nbformat_minor": 0,
  "metadata": {
    "colab": {
      "provenance": [],
      "mount_file_id": "11Hc91okfNVbu99E6Pm912Jh20yyYijql",
      "authorship_tag": "ABX9TyM67ugN9x/4SXi7eWn/puPG",
      "include_colab_link": true
    },
    "kernelspec": {
      "name": "python3",
      "display_name": "Python 3"
    },
    "language_info": {
      "name": "python"
    }
  },
  "cells": [
    {
      "cell_type": "markdown",
      "metadata": {
        "id": "view-in-github",
        "colab_type": "text"
      },
      "source": [
        "<a href=\"https://colab.research.google.com/github/Nimira43/Computer-Vision/blob/main/02_Grayscale_Spectrum_II.ipynb\" target=\"_parent\"><img src=\"https://colab.research.google.com/assets/colab-badge.svg\" alt=\"Open In Colab\"/></a>"
      ]
    },
    {
      "cell_type": "markdown",
      "source": [
        "## Reading, Manipulating and Saving Grayscale Image"
      ],
      "metadata": {
        "id": "i1DAgSFbG2p3"
      }
    },
    {
      "cell_type": "code",
      "source": [
        "import numpy as np\n",
        "import matplotlib.pyplot as plt\n",
        "from PIL import Image\n",
        "import os"
      ],
      "metadata": {
        "id": "3QDoyk1BPbxg"
      },
      "execution_count": 6,
      "outputs": []
    },
    {
      "cell_type": "markdown",
      "source": [
        "### Processing Grayscale Images"
      ],
      "metadata": {
        "id": "-Rrucf3uHQ7h"
      }
    },
    {
      "cell_type": "markdown",
      "source": [
        "#### Image of Albert Einstein"
      ],
      "metadata": {
        "id": "ZpEx2AEBU1Oq"
      }
    },
    {
      "cell_type": "code",
      "source": [
        "einstein = plt.imread(r'/content/drive/MyDrive/Colab Notebooks/Computer-Vision/albert-einstein_gray.jpg')"
      ],
      "metadata": {
        "id": "lW35cN6mHIL9"
      },
      "execution_count": 26,
      "outputs": []
    },
    {
      "cell_type": "code",
      "source": [
        "einstein.shape"
      ],
      "metadata": {
        "colab": {
          "base_uri": "https://localhost:8080/"
        },
        "id": "ay48qRpKTtAy",
        "outputId": "2ca9b102-f038-4091-ae95-070a39b15387"
      },
      "execution_count": 27,
      "outputs": [
        {
          "output_type": "execute_result",
          "data": {
            "text/plain": [
              "(949, 728)"
            ]
          },
          "metadata": {},
          "execution_count": 27
        }
      ]
    },
    {
      "cell_type": "code",
      "source": [
        "type(einstein)"
      ],
      "metadata": {
        "colab": {
          "base_uri": "https://localhost:8080/"
        },
        "id": "gIsCUCnGhE2K",
        "outputId": "2ccf34ca-8e74-4910-fd03-62ab3b13d970"
      },
      "execution_count": 39,
      "outputs": [
        {
          "output_type": "execute_result",
          "data": {
            "text/plain": [
              "numpy.ndarray"
            ]
          },
          "metadata": {},
          "execution_count": 39
        }
      ]
    },
    {
      "cell_type": "code",
      "source": [
        "einstein.dtype"
      ],
      "metadata": {
        "colab": {
          "base_uri": "https://localhost:8080/"
        },
        "id": "kDre397ghjsV",
        "outputId": "f9c55417-a365-4b05-d254-f8c26faf1774"
      },
      "execution_count": 42,
      "outputs": [
        {
          "output_type": "execute_result",
          "data": {
            "text/plain": [
              "dtype('uint8')"
            ]
          },
          "metadata": {},
          "execution_count": 42
        }
      ]
    },
    {
      "cell_type": "markdown",
      "source": [
        "#### Image of Jack Brabham"
      ],
      "metadata": {
        "id": "cRpqTL-bVljZ"
      }
    },
    {
      "cell_type": "code",
      "source": [
        "brabham = plt.imread(r'/content/drive/MyDrive/Colab Notebooks/Computer-Vision/brabham.jpg')"
      ],
      "metadata": {
        "id": "1aevFM8qT5xy"
      },
      "execution_count": 28,
      "outputs": []
    },
    {
      "cell_type": "code",
      "source": [
        "brabham.shape"
      ],
      "metadata": {
        "colab": {
          "base_uri": "https://localhost:8080/"
        },
        "id": "03M9JnpxVc_-",
        "outputId": "90038999-f736-4e3c-841c-58c4bd04ca82"
      },
      "execution_count": 29,
      "outputs": [
        {
          "output_type": "execute_result",
          "data": {
            "text/plain": [
              "(641, 1140, 3)"
            ]
          },
          "metadata": {},
          "execution_count": 29
        }
      ]
    },
    {
      "cell_type": "code",
      "source": [
        "type(brabham)"
      ],
      "metadata": {
        "colab": {
          "base_uri": "https://localhost:8080/"
        },
        "outputId": "3e86d372-bca8-4334-f248-96e512f6bba8",
        "id": "7KMyGv2UhVcL"
      },
      "execution_count": 40,
      "outputs": [
        {
          "output_type": "execute_result",
          "data": {
            "text/plain": [
              "numpy.ndarray"
            ]
          },
          "metadata": {},
          "execution_count": 40
        }
      ]
    },
    {
      "cell_type": "code",
      "source": [
        "brabham.dtype"
      ],
      "metadata": {
        "colab": {
          "base_uri": "https://localhost:8080/"
        },
        "id": "_d2HbOGhhyYu",
        "outputId": "badc21b0-0e3b-4f98-8f56-58d4d158494f"
      },
      "execution_count": 43,
      "outputs": [
        {
          "output_type": "execute_result",
          "data": {
            "text/plain": [
              "dtype('uint8')"
            ]
          },
          "metadata": {},
          "execution_count": 43
        }
      ]
    },
    {
      "cell_type": "markdown",
      "source": [
        "#### Image of Bruce McLaren"
      ],
      "metadata": {
        "id": "neOjxZWdV0vx"
      }
    },
    {
      "cell_type": "code",
      "source": [
        "mclaren = plt.imread(r'/content/drive/MyDrive/Colab Notebooks/Computer-Vision/mclaren.jpg')"
      ],
      "metadata": {
        "id": "HsqU6OPpVioS"
      },
      "execution_count": 30,
      "outputs": []
    },
    {
      "cell_type": "code",
      "source": [
        "mclaren.shape"
      ],
      "metadata": {
        "colab": {
          "base_uri": "https://localhost:8080/"
        },
        "id": "OS738zSjWEP0",
        "outputId": "ce490982-264c-4403-d91d-cf35bccaad4c"
      },
      "execution_count": 31,
      "outputs": [
        {
          "output_type": "execute_result",
          "data": {
            "text/plain": [
              "(450, 338, 3)"
            ]
          },
          "metadata": {},
          "execution_count": 31
        }
      ]
    },
    {
      "cell_type": "markdown",
      "source": [
        "#### Image of Stirling Moss"
      ],
      "metadata": {
        "id": "iostT1Mjdf9V"
      }
    },
    {
      "cell_type": "code",
      "source": [
        "moss = plt.imread(r'/content/drive/MyDrive/Colab Notebooks/Computer-Vision/moss.jpg')"
      ],
      "metadata": {
        "id": "pOEBxHnRWI-4"
      },
      "execution_count": 32,
      "outputs": []
    },
    {
      "cell_type": "code",
      "source": [
        "moss.shape"
      ],
      "metadata": {
        "colab": {
          "base_uri": "https://localhost:8080/"
        },
        "id": "yWqOvsqadbo8",
        "outputId": "0efaa115-de36-448f-9028-da819fc05996"
      },
      "execution_count": 33,
      "outputs": [
        {
          "output_type": "execute_result",
          "data": {
            "text/plain": [
              "(500, 400, 3)"
            ]
          },
          "metadata": {},
          "execution_count": 33
        }
      ]
    },
    {
      "cell_type": "markdown",
      "source": [
        "#### Image of Alberto Ascari"
      ],
      "metadata": {
        "id": "LMtfSbjedr3O"
      }
    },
    {
      "cell_type": "code",
      "source": [
        "ascari = plt.imread(r'/content/drive/MyDrive/Colab Notebooks/Computer-Vision/ascari.jpg')"
      ],
      "metadata": {
        "id": "qvWocfaEdyN2"
      },
      "execution_count": 34,
      "outputs": []
    },
    {
      "cell_type": "code",
      "source": [
        "ascari.shape"
      ],
      "metadata": {
        "colab": {
          "base_uri": "https://localhost:8080/"
        },
        "id": "Gob1_tWkd94c",
        "outputId": "6b27a9fb-2735-4b6d-a097-c6c3ae13b985"
      },
      "execution_count": 35,
      "outputs": [
        {
          "output_type": "execute_result",
          "data": {
            "text/plain": [
              "(394, 634, 3)"
            ]
          },
          "metadata": {},
          "execution_count": 35
        }
      ]
    },
    {
      "cell_type": "markdown",
      "source": [
        "### Image of Juan Manuel Fangio"
      ],
      "metadata": {
        "id": "1mBtftHIeFVR"
      }
    },
    {
      "cell_type": "code",
      "source": [
        "fangio = plt.imread(r'/content/drive/MyDrive/Colab Notebooks/Computer-Vision/fangio.jpg')"
      ],
      "metadata": {
        "id": "dULiQOa0d9Rg"
      },
      "execution_count": 37,
      "outputs": []
    },
    {
      "cell_type": "code",
      "source": [
        "fangio.shape"
      ],
      "metadata": {
        "colab": {
          "base_uri": "https://localhost:8080/"
        },
        "id": "PKA-gEQUgGe9",
        "outputId": "892b20bc-0b5c-46f0-89ec-5c78e2e237d1"
      },
      "execution_count": 38,
      "outputs": [
        {
          "output_type": "execute_result",
          "data": {
            "text/plain": [
              "(400, 400)"
            ]
          },
          "metadata": {},
          "execution_count": 38
        }
      ]
    },
    {
      "cell_type": "code",
      "source": [],
      "metadata": {
        "id": "fEmoYSD9gMSU"
      },
      "execution_count": null,
      "outputs": []
    }
  ]
}