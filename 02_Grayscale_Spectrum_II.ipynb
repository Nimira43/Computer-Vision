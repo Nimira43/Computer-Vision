{
  "nbformat": 4,
  "nbformat_minor": 0,
  "metadata": {
    "colab": {
      "provenance": [],
      "mount_file_id": "11Hc91okfNVbu99E6Pm912Jh20yyYijql",
      "authorship_tag": "ABX9TyMW30NG0Ucw1iocBiNQ/J9c",
      "include_colab_link": true
    },
    "kernelspec": {
      "name": "python3",
      "display_name": "Python 3"
    },
    "language_info": {
      "name": "python"
    }
  },
  "cells": [
    {
      "cell_type": "markdown",
      "metadata": {
        "id": "view-in-github",
        "colab_type": "text"
      },
      "source": [
        "<a href=\"https://colab.research.google.com/github/Nimira43/Computer-Vision/blob/main/02_Grayscale_Spectrum_II.ipynb\" target=\"_parent\"><img src=\"https://colab.research.google.com/assets/colab-badge.svg\" alt=\"Open In Colab\"/></a>"
      ]
    },
    {
      "cell_type": "markdown",
      "source": [
        "## Reading, Manipulating and Saving Grayscale Image"
      ],
      "metadata": {
        "id": "i1DAgSFbG2p3"
      }
    },
    {
      "cell_type": "code",
      "source": [
        "import numpy as np\n",
        "import matplotlib.pyplot as plt\n",
        "from PIL import Image\n",
        "import os"
      ],
      "metadata": {
        "id": "3QDoyk1BPbxg"
      },
      "execution_count": 6,
      "outputs": []
    },
    {
      "cell_type": "markdown",
      "source": [
        "### Processing Grayscale Images"
      ],
      "metadata": {
        "id": "-Rrucf3uHQ7h"
      }
    },
    {
      "cell_type": "markdown",
      "source": [
        "#### Image of Albert Einstein"
      ],
      "metadata": {
        "id": "ZpEx2AEBU1Oq"
      }
    },
    {
      "cell_type": "code",
      "source": [
        "einstein = plt.imread('/content/drive/MyDrive/Colab Notebooks/Computer-Vision/albert-einstein_gray.jpg')"
      ],
      "metadata": {
        "id": "lW35cN6mHIL9"
      },
      "execution_count": 12,
      "outputs": []
    },
    {
      "cell_type": "code",
      "source": [
        "einstein.shape"
      ],
      "metadata": {
        "colab": {
          "base_uri": "https://localhost:8080/"
        },
        "id": "ay48qRpKTtAy",
        "outputId": "a6f2a995-f8c0-4dd0-e40a-a7ea006b3ce2"
      },
      "execution_count": 13,
      "outputs": [
        {
          "output_type": "execute_result",
          "data": {
            "text/plain": [
              "(949, 728)"
            ]
          },
          "metadata": {},
          "execution_count": 13
        }
      ]
    },
    {
      "cell_type": "markdown",
      "source": [
        "#### Image of Jack Brabham"
      ],
      "metadata": {
        "id": "cRpqTL-bVljZ"
      }
    },
    {
      "cell_type": "code",
      "source": [
        "brabham = plt.imread('/content/drive/MyDrive/Colab Notebooks/Computer-Vision/brabham.jpg')"
      ],
      "metadata": {
        "id": "1aevFM8qT5xy"
      },
      "execution_count": 14,
      "outputs": []
    },
    {
      "cell_type": "code",
      "source": [
        "brabham.shape"
      ],
      "metadata": {
        "colab": {
          "base_uri": "https://localhost:8080/"
        },
        "id": "03M9JnpxVc_-",
        "outputId": "e0d23b78-4565-47cb-ef0d-a28678093d27"
      },
      "execution_count": 15,
      "outputs": [
        {
          "output_type": "execute_result",
          "data": {
            "text/plain": [
              "(641, 1140, 3)"
            ]
          },
          "metadata": {},
          "execution_count": 15
        }
      ]
    },
    {
      "cell_type": "markdown",
      "source": [
        "#### Image of Bruce McLaren"
      ],
      "metadata": {
        "id": "neOjxZWdV0vx"
      }
    },
    {
      "cell_type": "code",
      "source": [
        "mclaren = plt.imread('/content/drive/MyDrive/Colab Notebooks/Computer-Vision/mclaren.jpg')"
      ],
      "metadata": {
        "id": "HsqU6OPpVioS"
      },
      "execution_count": 16,
      "outputs": []
    },
    {
      "cell_type": "code",
      "source": [
        "mclaren.shape"
      ],
      "metadata": {
        "colab": {
          "base_uri": "https://localhost:8080/"
        },
        "id": "OS738zSjWEP0",
        "outputId": "92641a70-aa10-4dc4-d817-c3852585abff"
      },
      "execution_count": 17,
      "outputs": [
        {
          "output_type": "execute_result",
          "data": {
            "text/plain": [
              "(450, 338, 3)"
            ]
          },
          "metadata": {},
          "execution_count": 17
        }
      ]
    },
    {
      "cell_type": "code",
      "source": [],
      "metadata": {
        "id": "pOEBxHnRWI-4"
      },
      "execution_count": null,
      "outputs": []
    }
  ]
}